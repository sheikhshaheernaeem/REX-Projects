{
  "nbformat": 4,
  "nbformat_minor": 0,
  "metadata": {
    "colab": {
      "provenance": [],
      "gpuType": "T4"
    },
    "kernelspec": {
      "name": "python3",
      "display_name": "Python 3"
    },
    "language_info": {
      "name": "python"
    },
    "accelerator": "GPU"
  },
  "cells": [
    {
      "cell_type": "markdown",
      "source": [
        "# **Import Libraries**"
      ],
      "metadata": {
        "id": "fM7XscY_rbyk"
      }
    },
    {
      "cell_type": "code",
      "source": [
        "import tensorflow as tf\n",
        "from tensorflow.keras.preprocessing.image import ImageDataGenerator\n",
        "from tensorflow.keras.applications import VGG16\n",
        "from tensorflow.keras.models import Sequential\n",
        "from tensorflow.keras.layers import Dense, Flatten, Dropout\n",
        "from tensorflow.keras.optimizers import Adam"
      ],
      "metadata": {
        "id": "DscnkedoHzXz"
      },
      "execution_count": 3,
      "outputs": []
    },
    {
      "cell_type": "markdown",
      "source": [
        "# **Define data directories**"
      ],
      "metadata": {
        "id": "9SLi_XlereY9"
      }
    },
    {
      "cell_type": "code",
      "source": [
        "train_data_dir = '/content/Training'\n",
        "validation_data_dir = '/content/Validation'\n",
        "img_width, img_height = 224, 224\n",
        "batch_size = 32"
      ],
      "metadata": {
        "id": "3zgfpWp3ILdB"
      },
      "execution_count": 4,
      "outputs": []
    },
    {
      "cell_type": "markdown",
      "source": [
        "# **Data Augmentation for training data**"
      ],
      "metadata": {
        "id": "jPDOMz4Rrhk3"
      }
    },
    {
      "cell_type": "code",
      "source": [
        "train_datagen = ImageDataGenerator(\n",
        "    rescale=1.0 / 255,\n",
        "    rotation_range=20,\n",
        "    width_shift_range=0.2,\n",
        "    height_shift_range=0.2,\n",
        "    shear_range=0.2,\n",
        "    zoom_range=0.2,\n",
        "    horizontal_flip=True,\n",
        "    fill_mode='nearest'\n",
        ")"
      ],
      "metadata": {
        "id": "Q9WFCYj7IaYT"
      },
      "execution_count": 5,
      "outputs": []
    },
    {
      "cell_type": "markdown",
      "source": [
        "# **Data Augmentation for validation data (only rescaling)**"
      ],
      "metadata": {
        "id": "Sa-7Hp6-rkKd"
      }
    },
    {
      "cell_type": "code",
      "source": [
        "validation_datagen = ImageDataGenerator(rescale=1.0 / 255)"
      ],
      "metadata": {
        "id": "Ee7btOqKIfno"
      },
      "execution_count": 6,
      "outputs": []
    },
    {
      "cell_type": "markdown",
      "source": [
        "# **Create data generators**"
      ],
      "metadata": {
        "id": "vkJMq3sWrxWd"
      }
    },
    {
      "cell_type": "code",
      "source": [
        "train_generator = train_datagen.flow_from_directory(\n",
        "    train_data_dir,\n",
        "    target_size=(img_width, img_height),\n",
        "    batch_size=batch_size,\n",
        "    class_mode='binary'  # binary classification: 0 for male, 1 for female\n",
        ")\n",
        "\n",
        "validation_generator = validation_datagen.flow_from_directory(\n",
        "    validation_data_dir,\n",
        "    target_size=(img_width, img_height),\n",
        "    batch_size=batch_size,\n",
        "    class_mode='binary'\n",
        ")"
      ],
      "metadata": {
        "colab": {
          "base_uri": "https://localhost:8080/"
        },
        "id": "W_7biNotIiMa",
        "outputId": "18cc74d4-85fb-4968-c3c8-f15b339cb1fd"
      },
      "execution_count": 7,
      "outputs": [
        {
          "output_type": "stream",
          "name": "stdout",
          "text": [
            "Found 47009 images belonging to 2 classes.\n",
            "Found 11649 images belonging to 2 classes.\n"
          ]
        }
      ]
    },
    {
      "cell_type": "markdown",
      "source": [
        "# **Load the VGG16 model with pre-trained weights**"
      ],
      "metadata": {
        "id": "IevioWrarnA_"
      }
    },
    {
      "cell_type": "code",
      "source": [
        "base_model = VGG16(weights='imagenet', include_top=False, input_shape=(img_width, img_height, 3))"
      ],
      "metadata": {
        "colab": {
          "base_uri": "https://localhost:8080/"
        },
        "id": "863d_w-mIkRx",
        "outputId": "9bf87484-5ef6-4360-c204-1ee48ccafcd3"
      },
      "execution_count": 8,
      "outputs": [
        {
          "output_type": "stream",
          "name": "stdout",
          "text": [
            "Downloading data from https://storage.googleapis.com/tensorflow/keras-applications/vgg16/vgg16_weights_tf_dim_ordering_tf_kernels_notop.h5\n",
            "58889256/58889256 [==============================] - 0s 0us/step\n"
          ]
        }
      ]
    },
    {
      "cell_type": "markdown",
      "source": [
        "# **Freeze the layers of the VGG16 model**"
      ],
      "metadata": {
        "id": "L5DCb2-Wrqv_"
      }
    },
    {
      "cell_type": "code",
      "source": [
        "for layer in base_model.layers:\n",
        "    layer.trainable = False"
      ],
      "metadata": {
        "id": "iXilBIpRInbj"
      },
      "execution_count": 9,
      "outputs": []
    },
    {
      "cell_type": "markdown",
      "source": [
        "# **Create a custom top classifier**"
      ],
      "metadata": {
        "id": "hS9UiuHjr8oj"
      }
    },
    {
      "cell_type": "code",
      "source": [
        "model = Sequential()\n",
        "model.add(base_model)\n",
        "model.add(Flatten())\n",
        "model.add(Dense(256, activation='relu'))\n",
        "model.add(Dropout(0.5))\n",
        "model.add(Dense(1, activation='sigmoid'))"
      ],
      "metadata": {
        "id": "2i6VcLP_IrQ3"
      },
      "execution_count": 10,
      "outputs": []
    },
    {
      "cell_type": "markdown",
      "source": [
        "# **Compile the model**"
      ],
      "metadata": {
        "id": "kYbmaNYcr-KD"
      }
    },
    {
      "cell_type": "code",
      "source": [
        "model.compile(optimizer=Adam(learning_rate=0.0001), loss='binary_crossentropy', metrics=['accuracy'])"
      ],
      "metadata": {
        "id": "0BEvK-OXIstA"
      },
      "execution_count": 11,
      "outputs": []
    },
    {
      "cell_type": "markdown",
      "source": [
        "# **Train the model**"
      ],
      "metadata": {
        "id": "Z5IhDw-wsA0X"
      }
    },
    {
      "cell_type": "code",
      "source": [
        "history = model.fit(train_generator, epochs=5, validation_data=validation_generator)"
      ],
      "metadata": {
        "colab": {
          "base_uri": "https://localhost:8080/"
        },
        "id": "u0Ot5CIHIvOK",
        "outputId": "6747a501-32c7-4b6b-e9db-36763976dad2"
      },
      "execution_count": 12,
      "outputs": [
        {
          "output_type": "stream",
          "name": "stdout",
          "text": [
            "Epoch 1/5\n",
            "1470/1470 [==============================] - 719s 480ms/step - loss: 0.3403 - accuracy: 0.8529 - val_loss: 0.2530 - val_accuracy: 0.8961\n",
            "Epoch 2/5\n",
            "1470/1470 [==============================] - 693s 471ms/step - loss: 0.2740 - accuracy: 0.8881 - val_loss: 0.1896 - val_accuracy: 0.9222\n",
            "Epoch 3/5\n",
            "1470/1470 [==============================] - 690s 469ms/step - loss: 0.2549 - accuracy: 0.8972 - val_loss: 0.1770 - val_accuracy: 0.9296\n",
            "Epoch 4/5\n",
            "1470/1470 [==============================] - 694s 472ms/step - loss: 0.2482 - accuracy: 0.9001 - val_loss: 0.1795 - val_accuracy: 0.9287\n",
            "Epoch 5/5\n",
            "1470/1470 [==============================] - 694s 472ms/step - loss: 0.2378 - accuracy: 0.9036 - val_loss: 0.2228 - val_accuracy: 0.9092\n"
          ]
        }
      ]
    },
    {
      "cell_type": "markdown",
      "source": [
        "# **Save the trained model**"
      ],
      "metadata": {
        "id": "Y1AHwYnlsElL"
      }
    },
    {
      "cell_type": "code",
      "source": [
        "model.save('gender_classification_model.h5')"
      ],
      "metadata": {
        "colab": {
          "base_uri": "https://localhost:8080/"
        },
        "id": "xsOq5khrIxhP",
        "outputId": "fae803a6-d5b3-4049-cd78-8d596ca11027"
      },
      "execution_count": 13,
      "outputs": [
        {
          "output_type": "stream",
          "name": "stderr",
          "text": [
            "/usr/local/lib/python3.10/dist-packages/keras/src/engine/training.py:3000: UserWarning: You are saving your model as an HDF5 file via `model.save()`. This file format is considered legacy. We recommend using instead the native Keras format, e.g. `model.save('my_model.keras')`.\n",
            "  saving_api.save_model(\n"
          ]
        }
      ]
    },
    {
      "cell_type": "markdown",
      "source": [
        "## **Evaluate the model**"
      ],
      "metadata": {
        "id": "AA6owRFDsIQa"
      }
    },
    {
      "cell_type": "code",
      "source": [
        "evaluation = model.evaluate(validation_generator)\n",
        "print(f\"Validation Accuracy: {evaluation[1] * 100:.2f}%\")"
      ],
      "metadata": {
        "colab": {
          "base_uri": "https://localhost:8080/"
        },
        "id": "6ZprYepeq_lv",
        "outputId": "7d7d6159-cf4f-4ba6-9b21-8ccb9421f3ae"
      },
      "execution_count": 14,
      "outputs": [
        {
          "output_type": "stream",
          "name": "stdout",
          "text": [
            "365/365 [==============================] - 46s 126ms/step - loss: 0.2228 - accuracy: 0.9092\n",
            "Validation Accuracy: 90.92%\n"
          ]
        }
      ]
    }
  ]
}